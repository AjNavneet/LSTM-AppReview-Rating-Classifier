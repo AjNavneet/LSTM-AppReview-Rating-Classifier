{
 "cells": [
  {
   "cell_type": "code",
   "execution_count": 4,
   "metadata": {},
   "outputs": [],
   "source": [
    "# !pip install nltk==3.7\n",
    "# !pip install numpy==1.21.5\n",
    "# !pip install pandas==1.3.5\n",
    "# !pip install scikit_learn==1.0.2\n",
    "# !pip install tensorflow==2.7.0\n",
    "# !pip install torch==1.10.2\n",
    "# !pip install matplotlib==3.4.3"
   ]
  },
  {
   "cell_type": "code",
   "execution_count": 5,
   "metadata": {
    "id": "SqW-HqXiVVpU"
   },
   "outputs": [
    {
     "name": "stderr",
     "output_type": "stream",
     "text": [
      "[nltk_data] Downloading package stopwords to\n",
      "[nltk_data]     C:\\Users\\hemje\\AppData\\Roaming\\nltk_data...\n",
      "[nltk_data]   Package stopwords is already up-to-date!\n"
     ]
    },
    {
     "data": {
      "text/plain": [
       "True"
      ]
     },
     "execution_count": 5,
     "metadata": {},
     "output_type": "execute_result"
    }
   ],
   "source": [
    "# Importing Necessary libraries\n",
    "import re\n",
    "import nltk\n",
    "import time\n",
    "import torch\n",
    "import string\n",
    "import numpy as np\n",
    "import pandas as pd\n",
    "import torch.nn as nn\n",
    "# import tensorflow as tf\n",
    "\n",
    "nltk.download('stopwords')"
   ]
  },
  {
   "cell_type": "code",
   "execution_count": 6,
   "metadata": {},
   "outputs": [],
   "source": [
    "# from tensorflow import keras\n",
    "from nltk import PorterStemmer\n",
    "import torch.nn.functional as F\n",
    "import matplotlib.pyplot as plt\n",
    "from nltk.corpus import stopwords\n",
    "from sklearn.utils import resample\n",
    "from sklearn.model_selection import train_test_split\n"
   ]
  },
  {
   "cell_type": "markdown",
   "metadata": {},
   "source": [
    "---"
   ]
  },
  {
   "cell_type": "markdown",
   "metadata": {
    "id": "AX3D0BeaDXjO"
   },
   "source": [
    "# Reading the Data "
   ]
  },
  {
   "cell_type": "code",
   "execution_count": 7,
   "metadata": {
    "id": "1rDEMAW8Vq9e"
   },
   "outputs": [
    {
     "data": {
      "text/html": [
       "<div>\n",
       "<style scoped>\n",
       "    .dataframe tbody tr th:only-of-type {\n",
       "        vertical-align: middle;\n",
       "    }\n",
       "\n",
       "    .dataframe tbody tr th {\n",
       "        vertical-align: top;\n",
       "    }\n",
       "\n",
       "    .dataframe thead th {\n",
       "        text-align: right;\n",
       "    }\n",
       "</style>\n",
       "<table border=\"1\" class=\"dataframe\">\n",
       "  <thead>\n",
       "    <tr style=\"text-align: right;\">\n",
       "      <th></th>\n",
       "      <th>reviewId</th>\n",
       "      <th>userName</th>\n",
       "      <th>userImage</th>\n",
       "      <th>content</th>\n",
       "      <th>score</th>\n",
       "      <th>thumbsUpCount</th>\n",
       "      <th>reviewCreatedVersion</th>\n",
       "      <th>at</th>\n",
       "      <th>replyContent</th>\n",
       "      <th>repliedAt</th>\n",
       "    </tr>\n",
       "  </thead>\n",
       "  <tbody>\n",
       "    <tr>\n",
       "      <th>0</th>\n",
       "      <td>gp:AOqpTOFxf3fttcT5DSvFIn9KPp5FErgH9yC533Fmoxv...</td>\n",
       "      <td>Donna Caritero</td>\n",
       "      <td>https://play-lh.googleusercontent.com/a-/AOh14...</td>\n",
       "      <td>Overall it's really an amazing app. I've been ...</td>\n",
       "      <td>4</td>\n",
       "      <td>528</td>\n",
       "      <td>2.116.0</td>\n",
       "      <td>2021-06-17 07:18:54</td>\n",
       "      <td>Hi Donna. We are sorry that your text or desig...</td>\n",
       "      <td>2021-06-19 21:24:32</td>\n",
       "    </tr>\n",
       "    <tr>\n",
       "      <th>1</th>\n",
       "      <td>gp:AOqpTOEq6rNIWLnPV4KFTctWvm0mpGEQljtD6mvy1H-...</td>\n",
       "      <td>Soumi Mukhopadhyay</td>\n",
       "      <td>https://play-lh.googleusercontent.com/a-/AOh14...</td>\n",
       "      <td>Hey! Yes I gave a 5 star rating... coz I belie...</td>\n",
       "      <td>5</td>\n",
       "      <td>351</td>\n",
       "      <td>2.116.0</td>\n",
       "      <td>2021-06-17 19:18:28</td>\n",
       "      <td>NaN</td>\n",
       "      <td>NaN</td>\n",
       "    </tr>\n",
       "    <tr>\n",
       "      <th>2</th>\n",
       "      <td>gp:AOqpTOE86hSyPRHZgYt28Uk5zGe4FZGb1hkmtFDiYJ2...</td>\n",
       "      <td>Theknown _unknown</td>\n",
       "      <td>https://play-lh.googleusercontent.com/a-/AOh14...</td>\n",
       "      <td>Canva used to be a good app! But recently I've...</td>\n",
       "      <td>1</td>\n",
       "      <td>160</td>\n",
       "      <td>2.116.0</td>\n",
       "      <td>2021-06-23 19:13:28</td>\n",
       "      <td>Hi there. We're sorry to hear that you are hav...</td>\n",
       "      <td>2021-06-26 20:20:56</td>\n",
       "    </tr>\n",
       "    <tr>\n",
       "      <th>3</th>\n",
       "      <td>gp:AOqpTOHSuKkVTcM3QgCCKysHQlxEnk2ocOKsUMiMIJy...</td>\n",
       "      <td>Anthony Dean</td>\n",
       "      <td>https://play-lh.googleusercontent.com/a/AATXAJ...</td>\n",
       "      <td>It's a brilliant app, but I have just one prob...</td>\n",
       "      <td>5</td>\n",
       "      <td>145</td>\n",
       "      <td>2.116.0</td>\n",
       "      <td>2021-06-19 23:36:07</td>\n",
       "      <td>NaN</td>\n",
       "      <td>NaN</td>\n",
       "    </tr>\n",
       "    <tr>\n",
       "      <th>4</th>\n",
       "      <td>gp:AOqpTOEOrZt5H6jXPiplJyffCd5ZBnVXACTWgwNsF1R...</td>\n",
       "      <td>Neha Diana Wesley</td>\n",
       "      <td>https://play-lh.googleusercontent.com/a-/AOh14...</td>\n",
       "      <td>This was such a great app. I used to make BTS ...</td>\n",
       "      <td>4</td>\n",
       "      <td>142</td>\n",
       "      <td>2.116.0</td>\n",
       "      <td>2021-06-21 00:29:27</td>\n",
       "      <td>Hi Neha. Sorry to hear that you are unable to ...</td>\n",
       "      <td>2021-06-24 20:46:28</td>\n",
       "    </tr>\n",
       "  </tbody>\n",
       "</table>\n",
       "</div>"
      ],
      "text/plain": [
       "                                            reviewId            userName  \\\n",
       "0  gp:AOqpTOFxf3fttcT5DSvFIn9KPp5FErgH9yC533Fmoxv...      Donna Caritero   \n",
       "1  gp:AOqpTOEq6rNIWLnPV4KFTctWvm0mpGEQljtD6mvy1H-...  Soumi Mukhopadhyay   \n",
       "2  gp:AOqpTOE86hSyPRHZgYt28Uk5zGe4FZGb1hkmtFDiYJ2...   Theknown _unknown   \n",
       "3  gp:AOqpTOHSuKkVTcM3QgCCKysHQlxEnk2ocOKsUMiMIJy...        Anthony Dean   \n",
       "4  gp:AOqpTOEOrZt5H6jXPiplJyffCd5ZBnVXACTWgwNsF1R...   Neha Diana Wesley   \n",
       "\n",
       "                                           userImage  \\\n",
       "0  https://play-lh.googleusercontent.com/a-/AOh14...   \n",
       "1  https://play-lh.googleusercontent.com/a-/AOh14...   \n",
       "2  https://play-lh.googleusercontent.com/a-/AOh14...   \n",
       "3  https://play-lh.googleusercontent.com/a/AATXAJ...   \n",
       "4  https://play-lh.googleusercontent.com/a-/AOh14...   \n",
       "\n",
       "                                             content  score  thumbsUpCount  \\\n",
       "0  Overall it's really an amazing app. I've been ...      4            528   \n",
       "1  Hey! Yes I gave a 5 star rating... coz I belie...      5            351   \n",
       "2  Canva used to be a good app! But recently I've...      1            160   \n",
       "3  It's a brilliant app, but I have just one prob...      5            145   \n",
       "4  This was such a great app. I used to make BTS ...      4            142   \n",
       "\n",
       "  reviewCreatedVersion                   at  \\\n",
       "0              2.116.0  2021-06-17 07:18:54   \n",
       "1              2.116.0  2021-06-17 19:18:28   \n",
       "2              2.116.0  2021-06-23 19:13:28   \n",
       "3              2.116.0  2021-06-19 23:36:07   \n",
       "4              2.116.0  2021-06-21 00:29:27   \n",
       "\n",
       "                                        replyContent            repliedAt  \n",
       "0  Hi Donna. We are sorry that your text or desig...  2021-06-19 21:24:32  \n",
       "1                                                NaN                  NaN  \n",
       "2  Hi there. We're sorry to hear that you are hav...  2021-06-26 20:20:56  \n",
       "3                                                NaN                  NaN  \n",
       "4  Hi Neha. Sorry to hear that you are unable to ...  2021-06-24 20:46:28  "
      ]
     },
     "execution_count": 7,
     "metadata": {},
     "output_type": "execute_result"
    }
   ],
   "source": [
    "# Reading data\n",
    "data = pd.read_csv('../Input/review_data (1).csv')\n",
    "data.head()"
   ]
  },
  {
   "cell_type": "markdown",
   "metadata": {
    "id": "jZaReM1qDiKY"
   },
   "source": [
    "# Information About Dataset"
   ]
  },
  {
   "cell_type": "code",
   "execution_count": 8,
   "metadata": {
    "id": "rg1YLD7xVyEg"
   },
   "outputs": [
    {
     "name": "stdout",
     "output_type": "stream",
     "text": [
      "<class 'pandas.core.frame.DataFrame'>\n",
      "RangeIndex: 1500 entries, 0 to 1499\n",
      "Data columns (total 10 columns):\n",
      " #   Column                Non-Null Count  Dtype \n",
      "---  ------                --------------  ----- \n",
      " 0   reviewId              1500 non-null   object\n",
      " 1   userName              1500 non-null   object\n",
      " 2   userImage             1500 non-null   object\n",
      " 3   content               1500 non-null   object\n",
      " 4   score                 1500 non-null   int64 \n",
      " 5   thumbsUpCount         1500 non-null   int64 \n",
      " 6   reviewCreatedVersion  1500 non-null   object\n",
      " 7   at                    1500 non-null   object\n",
      " 8   replyContent          523 non-null    object\n",
      " 9   repliedAt             523 non-null    object\n",
      "dtypes: int64(2), object(8)\n",
      "memory usage: 117.3+ KB\n"
     ]
    }
   ],
   "source": [
    "data.info()"
   ]
  },
  {
   "cell_type": "code",
   "execution_count": null,
   "metadata": {
    "id": "6Dmc1zuaWKV4"
   },
   "outputs": [],
   "source": [
    "pd.set_option('display.max_colwidth', -1)"
   ]
  },
  {
   "cell_type": "code",
   "execution_count": 10,
   "metadata": {
    "id": "UotzM64FV4b8"
   },
   "outputs": [
    {
     "data": {
      "text/html": [
       "<div>\n",
       "<style scoped>\n",
       "    .dataframe tbody tr th:only-of-type {\n",
       "        vertical-align: middle;\n",
       "    }\n",
       "\n",
       "    .dataframe tbody tr th {\n",
       "        vertical-align: top;\n",
       "    }\n",
       "\n",
       "    .dataframe thead th {\n",
       "        text-align: right;\n",
       "    }\n",
       "</style>\n",
       "<table border=\"1\" class=\"dataframe\">\n",
       "  <thead>\n",
       "    <tr style=\"text-align: right;\">\n",
       "      <th></th>\n",
       "      <th>content</th>\n",
       "      <th>score</th>\n",
       "    </tr>\n",
       "  </thead>\n",
       "  <tbody>\n",
       "    <tr>\n",
       "      <th>0</th>\n",
       "      <td>Overall it's really an amazing app. I've been using this for the past 5 years however I only have one issue though and I wanted this to get address since I think this issue had lasted for how many years? The texts were blurred and when you zoom it out it's pixelated. I thought this issue only occurs on mobile apps however it was also present on the website. Please fix this. I still remember the time when I can export high definition texts and I love that experience. Thank you!</td>\n",
       "      <td>4</td>\n",
       "    </tr>\n",
       "    <tr>\n",
       "      <th>1</th>\n",
       "      <td>Hey! Yes I gave a 5 star rating... coz I believe it deserves it! I mostly use the desktop version and I am seriously so satisfied with this app in both android and desktop version. I just came here to thank the developers for this beautiful app and its facilities. I literally find almost everything that I need for and the best part is even without the premium feature it provides us with a lot many facilities. I love it! Thank you..! ❤</td>\n",
       "      <td>5</td>\n",
       "    </tr>\n",
       "    <tr>\n",
       "      <th>2</th>\n",
       "      <td>Canva used to be a good app! But recently I've been facing issues in saving my files. When I want my files to be saved in '.png' format, it gets saved in .jpg format! Moreover when I want my files to be saved it gets stuck at the downloading screen (where your so called magic does not happen) For now you'll be getting 1 stars from me. I hope you will fix the app soon! Thank you .</td>\n",
       "      <td>1</td>\n",
       "    </tr>\n",
       "    <tr>\n",
       "      <th>3</th>\n",
       "      <td>It's a brilliant app, but I have just one problem, if I'm editing a post and I double tap the photo to reposition, if I then start to zoom the photo, 8 times out of 10 my app crashes and restarts, this is on my LG G5 SE, sometimes I've had to go over to the desktop version on my PC just to reposition and zoom the photo where I want it to then resume editing back on my mobile.</td>\n",
       "      <td>5</td>\n",
       "    </tr>\n",
       "    <tr>\n",
       "      <th>4</th>\n",
       "      <td>This was such a great app. I used to make BTS memes through this. But after recent update... I'm not able to change my font style. The edit option of font is missing. I tried uninstalling and installing the app, but still it's isn't working. The edit option for font is appearing very rarely. The previous version was far better. Canva could you please work on it! 💜</td>\n",
       "      <td>4</td>\n",
       "    </tr>\n",
       "    <tr>\n",
       "      <th>...</th>\n",
       "      <td>...</td>\n",
       "      <td>...</td>\n",
       "    </tr>\n",
       "    <tr>\n",
       "      <th>1495</th>\n",
       "      <td>Absolutely amazing and a lifesaver for teachers.</td>\n",
       "      <td>5</td>\n",
       "    </tr>\n",
       "    <tr>\n",
       "      <th>1496</th>\n",
       "      <td>Very nice but many a times shows error opening the ppt. This was my school project and now has disturbed me.</td>\n",
       "      <td>3</td>\n",
       "    </tr>\n",
       "    <tr>\n",
       "      <th>1497</th>\n",
       "      <td>Too much lag. Always stuck on starting page. Worst app. Don't download</td>\n",
       "      <td>1</td>\n",
       "    </tr>\n",
       "    <tr>\n",
       "      <th>1498</th>\n",
       "      <td>Nice app for all college work. So many features and templates to work with. Loved it❤️</td>\n",
       "      <td>5</td>\n",
       "    </tr>\n",
       "    <tr>\n",
       "      <th>1499</th>\n",
       "      <td>I am a teacher and this was so much for this school year! Love this.</td>\n",
       "      <td>5</td>\n",
       "    </tr>\n",
       "  </tbody>\n",
       "</table>\n",
       "<p>1500 rows × 2 columns</p>\n",
       "</div>"
      ],
      "text/plain": [
       "                                                                                                                                                                                                                                                                                                                                                                                                                                                                                                content  \\\n",
       "0     Overall it's really an amazing app. I've been using this for the past 5 years however I only have one issue though and I wanted this to get address since I think this issue had lasted for how many years? The texts were blurred and when you zoom it out it's pixelated. I thought this issue only occurs on mobile apps however it was also present on the website. Please fix this. I still remember the time when I can export high definition texts and I love that experience. Thank you!   \n",
       "1     Hey! Yes I gave a 5 star rating... coz I believe it deserves it! I mostly use the desktop version and I am seriously so satisfied with this app in both android and desktop version. I just came here to thank the developers for this beautiful app and its facilities. I literally find almost everything that I need for and the best part is even without the premium feature it provides us with a lot many facilities. I love it! Thank you..! ❤                                              \n",
       "2     Canva used to be a good app! But recently I've been facing issues in saving my files. When I want my files to be saved in '.png' format, it gets saved in .jpg format! Moreover when I want my files to be saved it gets stuck at the downloading screen (where your so called magic does not happen) For now you'll be getting 1 stars from me. I hope you will fix the app soon! Thank you .                                                                                                      \n",
       "3     It's a brilliant app, but I have just one problem, if I'm editing a post and I double tap the photo to reposition, if I then start to zoom the photo, 8 times out of 10 my app crashes and restarts, this is on my LG G5 SE, sometimes I've had to go over to the desktop version on my PC just to reposition and zoom the photo where I want it to then resume editing back on my mobile.                                                                                                          \n",
       "4     This was such a great app. I used to make BTS memes through this. But after recent update... I'm not able to change my font style. The edit option of font is missing. I tried uninstalling and installing the app, but still it's isn't working. The edit option for font is appearing very rarely. The previous version was far better. Canva could you please work on it! 💜                                                                                                                      \n",
       "...                                                                                                                                                                                                                                                                                                                                                                              ...                                                                                                                      \n",
       "1495  Absolutely amazing and a lifesaver for teachers.                                                                                                                                                                                                                                                                                                                                                                                                                                                    \n",
       "1496  Very nice but many a times shows error opening the ppt. This was my school project and now has disturbed me.                                                                                                                                                                                                                                                                                                                                                                                        \n",
       "1497  Too much lag. Always stuck on starting page. Worst app. Don't download                                                                                                                                                                                                                                                                                                                                                                                                                              \n",
       "1498  Nice app for all college work. So many features and templates to work with. Loved it❤️                                                                                                                                                                                                                                                                                                                                                                                                              \n",
       "1499  I am a teacher and this was so much for this school year! Love this.                                                                                                                                                                                                                                                                                                                                                                                                                                \n",
       "\n",
       "      score  \n",
       "0     4      \n",
       "1     5      \n",
       "2     1      \n",
       "3     5      \n",
       "4     4      \n",
       "...  ..      \n",
       "1495  5      \n",
       "1496  3      \n",
       "1497  1      \n",
       "1498  5      \n",
       "1499  5      \n",
       "\n",
       "[1500 rows x 2 columns]"
      ]
     },
     "execution_count": 10,
     "metadata": {},
     "output_type": "execute_result"
    }
   ],
   "source": [
    "# Selecting the needed Column\n",
    "\n",
    "data = data[['content','score']]\n",
    "data"
   ]
  },
  {
   "cell_type": "markdown",
   "metadata": {},
   "source": [
    "---"
   ]
  },
  {
   "cell_type": "markdown",
   "metadata": {
    "id": "AbFMlvE_VuK8"
   },
   "source": [
    "# Function to Clean the Text"
   ]
  },
  {
   "cell_type": "code",
   "execution_count": 11,
   "metadata": {
    "id": "tN71AhDCWBif"
   },
   "outputs": [],
   "source": [
    "def clean_text(txt):\n",
    "    \"\"\"\n",
    "    Clean and preprocess text data.\n",
    "    :param txt: Input text to be cleaned\n",
    "    :return: Cleaned text\n",
    "    \"\"\"\n",
    "    # Convert text to lowercase\n",
    "    txt = txt.lower()\n",
    "\n",
    "    # Remove all special characters, including apostrophes\n",
    "    txt = re.sub(r'\\W', ' ', str(txt))\n",
    "\n",
    "    # Remove punctuations\n",
    "    txt = txt.translate(str.maketrans('', '', string.punctuation))\n",
    "\n",
    "    # Remove digits\n",
    "    txt = ''.join([i for i in txt if not i.isdigit()]).strip()\n",
    "\n",
    "    # Remove single characters (e.g., \"it's\" -> \"it s\" then remove \"s\")\n",
    "    txt = re.sub(r'\\s+[a-zA-Z]\\s+', ' ', txt)\n",
    "\n",
    "    # Substitute multiple spaces with a single space\n",
    "    txt = re.sub(r'\\s+', ' ', txt, flags=re.I)\n",
    "\n",
    "    # Remove links (e.g., \"http://example.com\" -> \"\")\n",
    "    txt = re.sub(r\"(http\\S+|http)\", \"\", txt)\n",
    "\n",
    "    # Tokenize the text, stem words, and remove English stopwords\n",
    "    txt = ' '.join([PorterStemmer().stem(word=word) for word in txt.split(\" \") if word not in stopwords.words('english')])\n",
    "\n",
    "    return txt\n"
   ]
  },
  {
   "cell_type": "markdown",
   "metadata": {},
   "source": [
    "---"
   ]
  },
  {
   "cell_type": "markdown",
   "metadata": {
    "id": "3OZGtypvV1FK"
   },
   "source": [
    "# Comparison Between Orginal Text and Processed Text"
   ]
  },
  {
   "cell_type": "code",
   "execution_count": 12,
   "metadata": {
    "id": "SamWezXOYtTw"
   },
   "outputs": [
    {
     "name": "stdout",
     "output_type": "stream",
     "text": [
      "Original Text :  Hey! Yes I gave a 5 star rating... coz I believe it deserves it! I mostly use the desktop version and I am seriously so satisfied with this app in both android and desktop version. I just came here to thank the developers for this beautiful app and its facilities. I literally find almost everything that I need for and the best part is even without the premium feature it provides us with a lot many facilities. I love it! Thank you..! ❤\n",
      "Processed Text :  hey ye gave star rate coz believ deserv mostli use desktop version serious satisfi app android desktop version came thank develop beauti app facil liter find almost everyth need best part even without premium featur provid us lot mani facil love thank\n"
     ]
    }
   ],
   "source": [
    "print('Original Text : ',data['content'][1])  \n",
    "print('Processed Text : ',clean_text(data['content'][1]))"
   ]
  },
  {
   "cell_type": "markdown",
   "metadata": {},
   "source": [
    "---"
   ]
  },
  {
   "cell_type": "markdown",
   "metadata": {
    "id": "EFFaQRJlWAle"
   },
   "source": [
    "# Applying the Function to the Dataset"
   ]
  },
  {
   "cell_type": "code",
   "execution_count": 13,
   "metadata": {
    "id": "sUsM5_YTY21t"
   },
   "outputs": [
    {
     "data": {
      "text/html": [
       "<div>\n",
       "<style scoped>\n",
       "    .dataframe tbody tr th:only-of-type {\n",
       "        vertical-align: middle;\n",
       "    }\n",
       "\n",
       "    .dataframe tbody tr th {\n",
       "        vertical-align: top;\n",
       "    }\n",
       "\n",
       "    .dataframe thead th {\n",
       "        text-align: right;\n",
       "    }\n",
       "</style>\n",
       "<table border=\"1\" class=\"dataframe\">\n",
       "  <thead>\n",
       "    <tr style=\"text-align: right;\">\n",
       "      <th></th>\n",
       "      <th>content</th>\n",
       "      <th>score</th>\n",
       "    </tr>\n",
       "  </thead>\n",
       "  <tbody>\n",
       "    <tr>\n",
       "      <th>0</th>\n",
       "      <td>overal realli amaz app use past year howev one issu though want get address sinc think issu last mani year text blur zoom pixel thought issu occur mobil app howev also present websit pleas fix still rememb time export high definit text love experi thank</td>\n",
       "      <td>4</td>\n",
       "    </tr>\n",
       "    <tr>\n",
       "      <th>1</th>\n",
       "      <td>hey ye gave star rate coz believ deserv mostli use desktop version serious satisfi app android desktop version came thank develop beauti app facil liter find almost everyth need best part even without premium featur provid us lot mani facil love thank</td>\n",
       "      <td>5</td>\n",
       "    </tr>\n",
       "    <tr>\n",
       "      <th>2</th>\n",
       "      <td>canva use good app recent face issu save file want file save png format get save jpg format moreov want file save get stuck download screen call magic happen get star hope fix app soon thank</td>\n",
       "      <td>1</td>\n",
       "    </tr>\n",
       "    <tr>\n",
       "      <th>3</th>\n",
       "      <td>brilliant app one problem edit post doubl tap photo reposit start zoom photo time app crash restart lg se sometim go desktop version pc reposit zoom photo want resum edit back mobil</td>\n",
       "      <td>5</td>\n",
       "    </tr>\n",
       "    <tr>\n",
       "      <th>4</th>\n",
       "      <td>great app use make bt meme recent updat abl chang font style edit option font miss tri uninstal instal app still work edit option font appear rare previou version far better canva could pleas work</td>\n",
       "      <td>4</td>\n",
       "    </tr>\n",
       "    <tr>\n",
       "      <th>...</th>\n",
       "      <td>...</td>\n",
       "      <td>...</td>\n",
       "    </tr>\n",
       "    <tr>\n",
       "      <th>1495</th>\n",
       "      <td>absolut amaz lifesav teacher</td>\n",
       "      <td>5</td>\n",
       "    </tr>\n",
       "    <tr>\n",
       "      <th>1496</th>\n",
       "      <td>nice mani time show error open ppt school project disturb</td>\n",
       "      <td>3</td>\n",
       "    </tr>\n",
       "    <tr>\n",
       "      <th>1497</th>\n",
       "      <td>much lag alway stuck start page worst app download</td>\n",
       "      <td>1</td>\n",
       "    </tr>\n",
       "    <tr>\n",
       "      <th>1498</th>\n",
       "      <td>nice app colleg work mani featur templat work love</td>\n",
       "      <td>5</td>\n",
       "    </tr>\n",
       "    <tr>\n",
       "      <th>1499</th>\n",
       "      <td>teacher much school year love</td>\n",
       "      <td>5</td>\n",
       "    </tr>\n",
       "  </tbody>\n",
       "</table>\n",
       "<p>1500 rows × 2 columns</p>\n",
       "</div>"
      ],
      "text/plain": [
       "                                                                                                                                                                                                                                                            content  \\\n",
       "0     overal realli amaz app use past year howev one issu though want get address sinc think issu last mani year text blur zoom pixel thought issu occur mobil app howev also present websit pleas fix still rememb time export high definit text love experi thank   \n",
       "1     hey ye gave star rate coz believ deserv mostli use desktop version serious satisfi app android desktop version came thank develop beauti app facil liter find almost everyth need best part even without premium featur provid us lot mani facil love thank     \n",
       "2     canva use good app recent face issu save file want file save png format get save jpg format moreov want file save get stuck download screen call magic happen get star hope fix app soon thank                                                                  \n",
       "3     brilliant app one problem edit post doubl tap photo reposit start zoom photo time app crash restart lg se sometim go desktop version pc reposit zoom photo want resum edit back mobil                                                                           \n",
       "4     great app use make bt meme recent updat abl chang font style edit option font miss tri uninstal instal app still work edit option font appear rare previou version far better canva could pleas work                                                            \n",
       "...                                                                                                                                                                                                    ...                                                            \n",
       "1495  absolut amaz lifesav teacher                                                                                                                                                                                                                                    \n",
       "1496  nice mani time show error open ppt school project disturb                                                                                                                                                                                                       \n",
       "1497  much lag alway stuck start page worst app download                                                                                                                                                                                                              \n",
       "1498  nice app colleg work mani featur templat work love                                                                                                                                                                                                              \n",
       "1499  teacher much school year love                                                                                                                                                                                                                                   \n",
       "\n",
       "      score  \n",
       "0     4      \n",
       "1     5      \n",
       "2     1      \n",
       "3     5      \n",
       "4     4      \n",
       "...  ..      \n",
       "1495  5      \n",
       "1496  3      \n",
       "1497  1      \n",
       "1498  5      \n",
       "1499  5      \n",
       "\n",
       "[1500 rows x 2 columns]"
      ]
     },
     "execution_count": 13,
     "metadata": {},
     "output_type": "execute_result"
    }
   ],
   "source": [
    "data['content'] = data['content'].apply(clean_text)  # Apply the 'clean_text' function to every text in the 'content' column\n",
    "\n",
    "data"
   ]
  },
  {
   "cell_type": "markdown",
   "metadata": {},
   "source": [
    "---"
   ]
  },
  {
   "cell_type": "markdown",
   "metadata": {
    "id": "tO5yFh24WIdQ"
   },
   "source": [
    "# Distribution of Classes in the dataset"
   ]
  },
  {
   "cell_type": "code",
   "execution_count": 14,
   "metadata": {
    "id": "2YWBMroMp6Rq"
   },
   "outputs": [
    {
     "data": {
      "text/plain": [
       "5    952\n",
       "4    227\n",
       "1    170\n",
       "3    91 \n",
       "2    60 \n",
       "Name: score, dtype: int64"
      ]
     },
     "execution_count": 14,
     "metadata": {},
     "output_type": "execute_result"
    }
   ],
   "source": [
    "data.score.value_counts() "
   ]
  },
  {
   "cell_type": "markdown",
   "metadata": {},
   "source": [
    "- we can see that class \"5\"  is dominating in the dataset. Thus we need to Balance the Dataset."
   ]
  },
  {
   "cell_type": "code",
   "execution_count": 15,
   "metadata": {
    "id": "AKNq2aBdW82z"
   },
   "outputs": [
    {
     "data": {
      "text/plain": [
       "<AxesSubplot:>"
      ]
     },
     "execution_count": 15,
     "metadata": {},
     "output_type": "execute_result"
    },
    {
     "data": {
      "image/png": "[encoded data removed]",
      "text/plain": [
       "<Figure size 432x288 with 1 Axes>"
      ]
     },
     "metadata": {
      "needs_background": "light"
     },
     "output_type": "display_data"
    }
   ],
   "source": [
    "pd.value_counts(data['score']).plot.bar()"
   ]
  },
  {
   "cell_type": "markdown",
   "metadata": {},
   "source": [
    "---"
   ]
  },
  {
   "cell_type": "markdown",
   "metadata": {
    "id": "D8ZlGAsdY9Tj"
   },
   "source": [
    "# Balancing the Dataset"
   ]
  },
  {
   "cell_type": "code",
   "execution_count": 16,
   "metadata": {
    "id": "t5RrvGtC4WYF"
   },
   "outputs": [],
   "source": [
    "# Divide the dataset into different classes based on the 'score' column\n",
    "df_majority = data[data['score'] == 5]  # Data with class 5\n",
    "df_minority1 = data[data['score'] == 2]  # Data with class 2\n",
    "df_minority2 = data[data['score'] == 3]  # Data with class 3\n",
    "df_minority3 = data[data['score'] == 1]  # Data with class 1\n",
    "df_minority4 = data[data['score'] == 4]  # Data with class 4\n"
   ]
  },
  {
   "cell_type": "markdown",
   "metadata": {
    "id": "cPYCp1ocsfBa"
   },
   "source": [
    "# Upasampling the Monority class and Downsampling the Majority Class"
   ]
  },
  {
   "cell_type": "code",
   "execution_count": 17,
   "metadata": {
    "id": "JDn58dHc5C0X"
   },
   "outputs": [],
   "source": [
    "# Down Sampling Majority Class \"5\"\n",
    "df_majority_downsampled = resample(df_majority, replace=False, n_samples=600)\n",
    "\n",
    "# Upsample Minority class \"2\"\n",
    "df_minority_upsampled = resample(df_minority1, replace=True, n_samples=200)\n",
    "\n",
    "# Upsample Minority class \"3\"\n",
    "df_minority_upsampled1 = resample(df_minority2, replace=True, n_samples=300)\n",
    "\n",
    "# Upsample Minority class \"1\"\n",
    "df_minority_upsampled2 = resample(df_minority3, replace=True, n_samples=225)\n",
    "\n",
    "# Upsample Minority class \"4\"\n",
    "df_minority_upsampled3 = resample(df_minority4, replace=True, n_samples=250)\n",
    "\n",
    "# Combine minority class with downsampled majority class to create a balanced dataset\n",
    "data1 = pd.concat([df_majority_downsampled, df_minority_upsampled, df_minority_upsampled1, df_minority_upsampled2, df_minority_upsampled3])\n"
   ]
  },
  {
   "cell_type": "code",
   "execution_count": 18,
   "metadata": {
    "id": "8URYtTbo5gGy"
   },
   "outputs": [
    {
     "data": {
      "text/plain": [
       "5    600\n",
       "3    300\n",
       "4    250\n",
       "1    225\n",
       "2    200\n",
       "Name: score, dtype: int64"
      ]
     },
     "execution_count": 18,
     "metadata": {},
     "output_type": "execute_result"
    }
   ],
   "source": [
    "data1.score.value_counts()"
   ]
  },
  {
   "cell_type": "markdown",
   "metadata": {},
   "source": [
    "---"
   ]
  },
  {
   "cell_type": "markdown",
   "metadata": {
    "id": "JTvo6bptstDI"
   },
   "source": [
    "# Now we have a Balanced Dataset"
   ]
  },
  {
   "cell_type": "code",
   "execution_count": 19,
   "metadata": {
    "id": "2i56RRXCaRAj"
   },
   "outputs": [
    {
     "data": {
      "text/plain": [
       "<AxesSubplot:>"
      ]
     },
     "execution_count": 19,
     "metadata": {},
     "output_type": "execute_result"
    },
    {
     "data": {
      "image/png": "[encoded data removed]",
      "text/plain": [
       "<Figure size 432x288 with 1 Axes>"
      ]
     },
     "metadata": {
      "needs_background": "light"
     },
     "output_type": "display_data"
    }
   ],
   "source": [
    "pd.value_counts(data1['score']).plot.bar()"
   ]
  },
  {
   "cell_type": "markdown",
   "metadata": {},
   "source": [
    "---"
   ]
  },
  {
   "cell_type": "markdown",
   "metadata": {
    "id": "rtasSCdYiXlS"
   },
   "source": [
    "# Defining the Parameters and Tokenizer"
   ]
  },
  {
   "cell_type": "code",
   "execution_count": 20,
   "metadata": {},
   "outputs": [],
   "source": [
    "# !pip install tensorflow==2.0.0 --upgrade --force-reinstall"
   ]
  },
  {
   "cell_type": "code",
   "execution_count": 21,
   "metadata": {
    "id": "jjp7SOYz8wzG"
   },
   "outputs": [
    {
     "name": "stdout",
     "output_type": "stream",
     "text": [
      "Found 1353 unique tokens.\n"
     ]
    }
   ],
   "source": [
    "# Import necessary libraries\n",
    "from tensorflow.keras.preprocessing.text import Tokenizer\n",
    "from tensorflow.keras.preprocessing.sequence import pad_sequences\n",
    "\n",
    "# Define the maximum number of words to be used (most frequent)\n",
    "MAX_NB_WORDS = 2000\n",
    "\n",
    "# Define the maximum number of words in each content\n",
    "MAX_SEQUENCE_LENGTH = 600\n",
    "\n",
    "# Define the embedding dimension\n",
    "EMBEDDING_DIM = 100\n",
    "\n",
    "# Create a Keras Tokenizer with specified parameters\n",
    "tokenizer = Tokenizer(num_words=MAX_NB_WORDS, filters='!\"#$%&()*+,-./:;<=>?@[\\]^_`{|}~', lower=True)\n",
    "\n",
    "# Fit the tokenizer on the 'content' values of the 'data1' DataFrame\n",
    "tokenizer.fit_on_texts(data1['content'].values)\n",
    "\n",
    "# Build a word index based on the fitted tokenizer\n",
    "word_index = tokenizer.word_index\n",
    "\n",
    "# Print the number of unique tokens found\n",
    "print('Found %s unique tokens.' % len(word_index))\n"
   ]
  },
  {
   "cell_type": "code",
   "execution_count": 22,
   "metadata": {
    "id": "n_9tXY3wZXOR"
   },
   "outputs": [
    {
     "name": "stdout",
     "output_type": "stream",
     "text": [
      "Shape of data tensor: 600\n"
     ]
    }
   ],
   "source": [
    "# Tokenize the 'content' values of the 'data1' DataFrame using the fitted tokenizer\n",
    "X = tokenizer.texts_to_sequences(data1['content'].values)\n",
    "\n",
    "# Pad the sequences to ensure they all have a consistent length\n",
    "X = pad_sequences(X, maxlen=MAX_SEQUENCE_LENGTH)\n",
    "\n",
    "# Print the shape of the data tensor (X)\n",
    "print('Shape of data tensor:', X.shape[1])\n"
   ]
  },
  {
   "cell_type": "code",
   "execution_count": 23,
   "metadata": {
    "id": "IQogXdMRZuIv"
   },
   "outputs": [
    {
     "name": "stdout",
     "output_type": "stream",
     "text": [
      "(1575,)\n",
      "[1 2 3 4 5]\n"
     ]
    },
    {
     "data": {
      "text/plain": [
       "dtype('int64')"
      ]
     },
     "execution_count": 23,
     "metadata": {},
     "output_type": "execute_result"
    }
   ],
   "source": [
    "# Import the necessary library\n",
    "from sklearn.preprocessing import LabelEncoder\n",
    "\n",
    "# Create a LabelEncoder instance\n",
    "le = LabelEncoder()\n",
    "\n",
    "# Fit the LabelEncoder on the 'score' column of the 'data1' DataFrame and transform it into numerical labels\n",
    "Y = le.fit_transform(data1['score'])\n",
    "\n",
    "# Print the shape of the transformed labels (Y)\n",
    "print(Y.shape)\n",
    "\n",
    "# Print the unique classes that were encoded\n",
    "print(le.classes_)\n",
    "\n",
    "# Print the data type of the encoded labels\n",
    "Y.dtype\n"
   ]
  },
  {
   "cell_type": "markdown",
   "metadata": {},
   "source": [
    "---"
   ]
  },
  {
   "cell_type": "markdown",
   "metadata": {
    "id": "nz49zx5Qcff1"
   },
   "source": [
    "# Splitting Dataset to Train and Test Data"
   ]
  },
  {
   "cell_type": "code",
   "execution_count": 24,
   "metadata": {
    "id": "EZjjAcnCZz4B"
   },
   "outputs": [
    {
     "name": "stdout",
     "output_type": "stream",
     "text": [
      "(1417, 600) (1417,)\n",
      "(158, 600) (158,)\n"
     ]
    }
   ],
   "source": [
    "# Split the data into training and testing sets\n",
    "X_train, X_test, Y_train, Y_test = train_test_split(X, Y, test_size=0.10, random_state=42, stratify=Y)\n",
    "\n",
    "# Print the shapes of the training and testing data and labels\n",
    "print(X_train.shape, Y_train.shape)\n",
    "print(X_test.shape, Y_test.shape)\n"
   ]
  },
  {
   "cell_type": "code",
   "execution_count": 25,
   "metadata": {
    "id": "VBJH19RChkqb"
   },
   "outputs": [],
   "source": [
    "# Y_test = torch.Tensor(Y_test.to_numpy())\n",
    "# Y_test.dtype"
   ]
  },
  {
   "cell_type": "code",
   "execution_count": 26,
   "metadata": {
    "id": "Tazgv11caEwf"
   },
   "outputs": [],
   "source": [
    "# Convert the training data into a PyTorch tensor\n",
    "x_train = torch.tensor(X_train, dtype=torch.long)\n",
    "y_train = torch.tensor(Y_train, dtype=torch.long)\n",
    "x_cv = torch.tensor(X_test, dtype=torch.long)\n",
    "y_cv = torch.tensor(Y_test, dtype=torch.long)\n"
   ]
  },
  {
   "cell_type": "markdown",
   "metadata": {},
   "source": [
    "---"
   ]
  },
  {
   "cell_type": "markdown",
   "metadata": {
    "id": "xX-AIui-s_mr"
   },
   "source": [
    "# Converting dataset to a Torch Datset"
   ]
  },
  {
   "cell_type": "code",
   "execution_count": 27,
   "metadata": {
    "id": "0CDy5I6KafQk"
   },
   "outputs": [],
   "source": [
    "# Create a TensorDataset for the training and validation data and labels\n",
    "train = torch.utils.data.TensorDataset(x_train, y_train)\n",
    "valid = torch.utils.data.TensorDataset(x_cv, y_cv)\n"
   ]
  },
  {
   "cell_type": "code",
   "execution_count": 28,
   "metadata": {
    "id": "xJTZPvq9bSXW"
   },
   "outputs": [],
   "source": [
    "# Define the maximum number of features\n",
    "max_features = 2000\n",
    "\n",
    "# Define the batch size for training\n",
    "batch_size = 50\n",
    "\n",
    "# Set the vocab size to the maximum number of features\n",
    "vocab_size = max_features\n",
    "\n",
    "# Create a data loader for the training data\n",
    "train_dl = torch.utils.data.DataLoader(train, batch_size=batch_size, shuffle=True)\n",
    "\n",
    "# Create a data loader for the validation data\n",
    "val_dl = torch.utils.data.DataLoader(valid, batch_size=batch_size, shuffle=False)"
   ]
  },
  {
   "cell_type": "markdown",
   "metadata": {},
   "source": [
    "---"
   ]
  },
  {
   "cell_type": "markdown",
   "metadata": {
    "id": "6pEF_VtECs_w"
   },
   "source": [
    "# Defining the Model"
   ]
  },
  {
   "cell_type": "code",
   "execution_count": 29,
   "metadata": {
    "id": "-DJNQS-qbWs5"
   },
   "outputs": [],
   "source": [
    "class LSTM(torch.nn.Module):\n",
    "    def __init__(self, vocab_size, embedding_dim, hidden_dim):\n",
    "        super().__init()\n",
    "        \n",
    "        # Define the hidden dimension\n",
    "        self.hidden_dim = hidden_dim\n",
    "        \n",
    "        # Define the embedding layer\n",
    "        self.embeddings = nn.Embedding(vocab_size, embedding_dim, padding_idx=0)\n",
    "        # self.drop  = nn.Dropout(p=0.2)\n",
    "        \n",
    "        # Define the first LSTM layer\n",
    "        self.lstm = nn.LSTM(embedding_dim, hidden_dim, batch_first=True)\n",
    "        \n",
    "        # Define the second LSTM layer\n",
    "        self.lstm1 = nn.LSTM(hidden_dim, 64, batch_first=True)\n",
    "        \n",
    "        # Define the linear layer for classification\n",
    "        self.linear = nn.Linear(64, 5)\n",
    "        \n",
    "        # Define the softmax layer\n",
    "        # self.softmax = nn.Softmax(dim=1)\n",
    "\n",
    "    def forward(self, x):\n",
    "        x = self.embeddings(x)  # Pass input through the embedding layer\n",
    "        out_pack, (ht, ct) = self.lstm(x)  # Pass through the first LSTM layer\n",
    "        out_pack1, (ht, ct) = self.lstm1(out_pack)  # Pass through the second LSTM layer\n",
    "        out = self.linear(ht[-1])  # Pass through the linear layer for classification\n",
    "        # out = self.softmax(out)  # Softmax layer\n",
    "        return out\n"
   ]
  },
  {
   "cell_type": "markdown",
   "metadata": {},
   "source": [
    "---"
   ]
  },
  {
   "cell_type": "markdown",
   "metadata": {
    "id": "4bD2s9P7CfKz"
   },
   "source": [
    "# Structure of the Model"
   ]
  },
  {
   "cell_type": "code",
   "execution_count": 30,
   "metadata": {
    "id": "0L-QyIXbbfL5"
   },
   "outputs": [
    {
     "name": "stdout",
     "output_type": "stream",
     "text": [
      "LSTM(\n",
      "  (embeddings): Embedding(2000, 128, padding_idx=0)\n",
      "  (lstm): LSTM(128, 64, batch_first=True)\n",
      "  (lstm1): LSTM(64, 64, batch_first=True)\n",
      "  (linear): Linear(in_features=64, out_features=5, bias=True)\n",
      ")\n"
     ]
    }
   ],
   "source": [
    "# Initialize the model with specified parameters\n",
    "model = LSTM(vocab_size, 128, 64)\n",
    "\n",
    "# Print the model architecture\n",
    "print(model)\n"
   ]
  },
  {
   "cell_type": "markdown",
   "metadata": {},
   "source": [
    "---"
   ]
  },
  {
   "cell_type": "markdown",
   "metadata": {
    "id": "BU8QYYE0CHOf"
   },
   "source": [
    "# Model Tranining And Validation"
   ]
  },
  {
   "cell_type": "code",
   "execution_count": 32,
   "metadata": {
    "colab": {
     "base_uri": "https://localhost:8080/"
    },
    "id": "V6b_K0nCbkQQ",
    "outputId": "e238b695-f5f8-4fbd-fb8f-dbc23bf33d04"
   },
   "outputs": [],
   "source": [
    "# Define the number of training epochs\n",
    "n_epochs = 10\n",
    "\n",
    "# Define the loss function (Cross Entropy) and optimizer (Adam)\n",
    "loss_fn = nn.CrossEntropyLoss()  # Loss Function\n",
    "optimizer = torch.optim.Adam(model.parameters(), lr=0.001)  # Optimizer\n",
    "\n",
    "# Lists to store training and validation loss\n",
    "train_loss = []\n",
    "valid_loss = []\n",
    "\n",
    "# Loop over the specified number of epochs\n",
    "for epoch in range(n_epochs):\n",
    "    start_time = time.time()\n",
    "\n",
    "    # Set the model in training mode\n",
    "    model.train()  # Indicator for training\n",
    "    avg_loss = 0.\n",
    "\n",
    "    # Loop over the training data\n",
    "    for i, (x_batch, y_batch) in enumerate(train_dl):\n",
    "        # Predict/Forward Pass\n",
    "        y_pred = model(x_batch)\n",
    "      # x_batch = x_batch.cuda()\n",
    "      # y_batch = y_batch.cuda()\n",
    "\n",
    "        # Compute the loss\n",
    "        loss = loss_fn(y_pred, y_batch)\n",
    "        optimizer.zero_grad()\n",
    "        loss.backward()\n",
    "        optimizer.step()\n",
    "        avg_loss += loss.item() / len(train_dl)\n",
    "\n",
    "    # Set the model in validation mode\n",
    "    model.eval()  # Indicator for Validation\n",
    "    avg_val_loss = 0.\n",
    "    val_preds = np.zeros((len(x_cv), len(le.classes_))\n",
    "\n",
    "    # Loop over the validation data\n",
    "    for i, (x_batch, y_batch) in enumerate(val_dl):\n",
    "        y_pred = model(x_batch).detach()\n",
    "        avg_val_loss += loss_fn(y_pred, y_batch).item() / len(val_dl)\n",
    "\n",
    "        # Keep/store predictions\n",
    "        val_preds[i * batch_size:(i + 1) * batch_size] = F.softmax(y_pred).cpu().numpy()\n",
    "\n",
    "        # Calculate validation accuracy\n",
    "    val_accuracy = sum(val_preds.argmax(axis=1) == Y_test) / len(Y_test)\n",
    "\n",
    "    # Append the training and validation loss\n",
    "    train_loss.append(avg_loss)\n",
    "    valid_loss.append(avg_val_loss)\n",
    "\n",
    "    elapsed_time = time.time() - start_time\n",
    "    print('Epoch {}/{} \\t loss={:.4f} \\t val_loss={:.4f}  \\t val_acc={:.4f}  \\t time={:.2f}s'.format(\n",
    "        epoch + 1, n_epochs, avg_loss, avg_val_loss, val_accuracy, elapsed_time))"
   ]
  },
  {
   "cell_type": "markdown",
   "metadata": {},
   "source": [
    "---"
   ]
  },
  {
   "cell_type": "markdown",
   "metadata": {
    "id": "AmoyY-cJjQoo"
   },
   "source": [
    "# Plotting the Loss"
   ]
  },
  {
   "cell_type": "code",
   "execution_count": null,
   "metadata": {
    "id": "2SMrXaqS_QG9"
   },
   "outputs": [],
   "source": [
    "# Function to plot the loss vs. epoch graph\n",
    "def plot_graph(train_loss, valid_loss):\n",
    "    epochs = len(train_loss) # Calculate the number of epochs\n",
    "    plt.figure(figsize=(12, 6))\n",
    "    plt.title(\"Train/Validation Loss\") # Set the title of the graph\n",
    "    plt.plot(range(1, epochs + 1), train_loss, label='Train Loss', marker='o') # Plot the training loss with markers and label\n",
    "    plt.plot(range(1, epochs + 1), valid_loss, label='Validation Loss', marker='o') # Plot the validation loss with markers and label\n",
    "    plt.xlabel('Epochs')\n",
    "    plt.ylabel('Loss')\n",
    "    plt.legend()\n",
    "    plt.grid(True)\n",
    "    plt.show()\n"
   ]
  },
  {
   "cell_type": "code",
   "execution_count": null,
   "metadata": {
    "colab": {
     "base_uri": "https://localhost:8080/",
     "height": 733
    },
    "id": "tyoMnxjjh6Cg",
    "outputId": "749cf4c3-c98c-4a8c-9664-00c5e219e9f2"
   },
   "outputs": [
    {
     "data": {
      "image/png": "[encoded data removed]",
      "text/plain": [
       "<Figure size 864x864 with 1 Axes>"
      ]
     },
     "metadata": {
      "needs_background": "light"
     },
     "output_type": "display_data"
    }
   ],
   "source": [
    "plot_graph(n_epochs)"
   ]
  },
  {
   "cell_type": "markdown",
   "metadata": {},
   "source": [
    "---"
   ]
  },
  {
   "cell_type": "code",
   "execution_count": null,
   "metadata": {},
   "outputs": [],
   "source": []
  }
 ],
 "metadata": {
  "accelerator": "GPU",
  "colab": {
   "collapsed_sections": [],
   "name": "Text_Classif_LSTM.ipynb",
   "provenance": []
  },
  "kernelspec": {
   "display_name": "Python 3 (ipykernel)",
   "language": "python",
   "name": "python3"
  },
  "language_info": {
   "codemirror_mode": {
    "name": "ipython",
    "version": 3
   },
   "file_extension": ".py",
   "mimetype": "text/x-python",
   "name": "python",
   "nbconvert_exporter": "python",
   "pygments_lexer": "ipython3",
   "version": "3.7.9"
  }
 },
 "nbformat": 4,
 "nbformat_minor": 1
}
